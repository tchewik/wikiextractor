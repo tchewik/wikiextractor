{
 "cells": [
  {
   "cell_type": "markdown",
   "metadata": {},
   "source": [
    "### Get list of categories "
   ]
  },
  {
   "cell_type": "code",
   "execution_count": null,
   "metadata": {},
   "outputs": [],
   "source": [
    "import requests"
   ]
  },
  {
   "cell_type": "code",
   "execution_count": null,
   "metadata": {},
   "outputs": [],
   "source": [
    "categories = ['Programming_languages', 'Computer_science', 'Information_technology', 'Algorithms', \n",
    "              'Formal_systems', 'Areas_of_computer_science', 'Software_development',\n",
    "              'Cybernetics', 'Artificial_intelligence', 'Machine_learning']"
   ]
  },
  {
   "cell_type": "code",
   "execution_count": null,
   "metadata": {},
   "outputs": [],
   "source": [
    "params = {\n",
    "    'categories': 'Information_technology',\n",
    "    #'combination': 'union',\n",
    "    'depth': 4,\n",
    "    'negcats': ['Information_technology_by_country'],\n",
    "    'ns[14]': 1,  # namespace=14 is for categories, 0 for pages\n",
    "    'language': 'en',\n",
    "    'project': 'wikipedia',\n",
    "    'format': 'json',\n",
    "    'doit': 'Do it!'}\n",
    "\n",
    "r = requests.get('https://petscan.wmflabs.org/', params=params)\n",
    "data = r.json()"
   ]
  },
  {
   "cell_type": "code",
   "execution_count": null,
   "metadata": {},
   "outputs": [],
   "source": [
    "stopwords = [' alphabet', ' deal', ' god ', ' lewis', ' von ', '$2 billion arms deal', '(app)', '(business)', '(grammar)', '(judge)', '(music)', '(number)', '(paint)', '(process)', '(series)', '-30-', '-di', '-yllion', '.co', '.com', '.org', '0 to 60 mph', '1,000,000', '1,1-Dihydroxyethene', '1,2-Dimethylhydrazine', '1,4-Dioxene', '100 Best Workplaces in Europe', '14-Ethoxymetopon', '14-Methoxymetopon', '14-Phenylpropoxymetopon', '17-Dimethylaminoethylamino-17-demethoxygeldanamycin', '19', '1mv', '20', '2mv', '3mv', '4-', '4.', '4chan', \"Ren'Py\", '_asteroids', '_by_', '_cars', '_date', '_entertainment', '_group', '_in_', '_librar', '_males', '_productions', '_screening', '_software', '_studios', '_symbols', '_taxonomy', '_terminology', '_that_uses_', '_tv', 'abelian_group_theory', 'abkhaz', 'ableton', 'academic', 'academics', 'academy', 'accesso', 'accident', 'acer', 'acetals', 'acid', 'acoustic', 'activision', 'activist', 'actuator', 'acyl', 'adam ', 'adam_and_eve', 'adobe', 'advertising', 'africa', 'age', 'agricultural', 'aika ', 'aiko ', 'aimi ', 'ainu', 'aircraft', 'aiya', 'akako', 'akane', 'akasuki', 'akemi', 'aki', 'akihiko', 'akihiro', 'akiko', 'akira', 'al_jazeera', 'albanian', 'album', 'alcatel', 'alchemical', 'alcohol', 'aldehyde', 'alehandro', 'alejandro', 'aleksander', 'alex', 'alexander', 'alfie', 'algorave', 'ali ', 'alibaba', 'alice', 'alicia', 'alien', 'aliexpress', 'alken', 'alko', 'alkynyl', 'all.net', 'alphago', 'alt-right', 'alternate_reality', 'am a man', 'amaterasu', 'amaya', 'amazon', 'ambrosiana', 'america', 'amerika', 'ami ', 'amid', 'amida', 'amine', 'amulet', 'anatom', 'anders ', 'andre', 'android', 'andy ', 'angela', 'animal', 'anime', 'anka ', 'anna ', 'annaisha', 'annals', 'annya ', 'anonymity', 'anonymous', 'ansaldo', 'anthem', 'anthropometr', 'antoine', 'antonine', 'antonio', 'apache', 'apple', 'arab', 'archives', 'archivists', 'arctic', 'arduino', 'argent', 'armenia', 'armorials', 'art', 'artem', 'arthur', 'arun ', 'asanas', 'asia', 'aslian', 'asmat', 'assassin', 'association', 'asteroid', 'astrid', 'astrology', 'astronomy', 'asus', 'asymmetry', 'at&t', 'atari', 'atlases', 'atmospher', 'atom', 'attack', 'australian', 'authorities', 'automobile', 'avatar', 'avionics', 'award', 'axiata', 'babie', 'baby', 'badge', 'banco', 'bangladesh', 'barbara', 'barcode', 'barry', 'basho', 'basketball', 'battery', 'battle', 'beam_robotics', 'belgium', 'bell_labs', 'benjamin', 'berg', 'berkeley', 'bernard', 'bible', 'bifurcation', 'bill', 'billion', 'biology', 'biomass', 'biome', 'biota', 'bioware', 'bird', 'birth', 'bitcoin', 'bittorrent', 'biuro', 'black_mirror', 'blade_runner', 'blog', 'bloggers', 'blown', 'blue_plaque', 'bob ', 'bobby', 'bodies', 'body_shape', 'bojack', 'book', 'boston', 'bouygues', 'boycott', 'bradley', 'brahmic', 'braille', 'brainly', 'brass', 'breast', 'brian', 'british', 'brittany', 'brokers', 'bromide', 'buffalo', 'buffy', 'buggies', 'building', 'bungie', 'bunko', 'bureau', 'buzzfeed', 'by_continent', 'byers', 'cabang_atas', 'caleb', 'call_of_duty', 'calligra', 'calligraphy', 'cambridge', 'cameras', 'camouflage', 'campaigning', 'canad', 'canada', 'cancer', 'canes', 'canon', 'canton', 'car', 'carbon', 'cartography', 'casio', 'caste', 'celebrities', 'censore', 'censorship', 'centers', 'century', 'certification', 'certifications', 'challenge', 'character', 'charles', 'charlie', 'chart', 'chemical', 'chess', 'chevrolet', 'china', 'chizu', 'chloride', 'cho ', 'chris', 'christ', 'christian', 'chronic', 'chrysler', 'cinema', 'cisco', 'cism', 'citation', 'cities', 'citizenship', 'citroën', 'city', 'clarence', 'clarity', 'classroom', 'clergy', 'cliff ', 'climate_classification', 'clinic', 'clothing', 'club', 'coats_of_arms', 'code_lyoko', 'codemaster', 'coinage', 'collation', 'collectives', 'college', 'color', 'coma', 'comedy', 'comic', 'comics', 'commune', 'communit', 'compan', 'competition', 'compuserve', 'conference', 'confession', 'conformity', 'congo', 'console', 'conspiracy', 'consulting', 'consumerism', 'consumption', 'convention', 'copyright', 'cordillera', 'corel', 'cornell', 'corporation', 'corpus', 'cosmism', 'cosmists', 'cosmolog', 'cosplay', 'costume', 'counter-strike', 'country', 'created_in', 'creepypasta', 'creole', 'crime', 'croatia', 'croatian', 'crowds', 'crucifixion', 'cruiser', 'crytek', 'cthulhu', 'cult_', 'cults', 'culture', 'cyanat', 'cyanide', 'cyberpunk', 'cyberspace', 'cyborg', 'cypherpunk', 'cyprus', 'cyrillic', 'cyrillization', 'czech', 'd-link', 'daichi', 'daihatsu', 'daisuke', 'daniel', 'danube_delta', 'dark_web', 'darrell', 'databases', 'dating', 'david', 'de_correspondent', 'death_indexes', 'deception', 'decoys', 'defcon', 'definition', 'demo', 'democracy', 'demographic', 'demonym', 'denis', 'denmark', 'dennis', 'densha', 'desert', 'desmond', 'destination:', 'deus_ex', 'deutsche', 'developer', 'deviance', 'di gi', 'diabet', 'diacritics', 'diagrams', 'dialectology', 'dianping', 'diaspora', 'dichotom', 'dick ', 'dictator', 'difference', 'digimon', 'digital_camera', 'dinghy', 'directx', 'discrimination', 'disinformation', 'disney', 'disorder', 'dispatchers', 'dit da', 'diversionary', 'diversity', 'doctor', 'documents', 'dolby', 'dollar', 'donald', 'donna ', 'doom', 'dorado_group', 'dow_jones', 'dpkg', 'dragons', 'draughtsmen', 'dress', 'drum_', 'drums', 'dualism', 'dublin', 'duncan', 'dungeons_', 'duos', 'dyes', 'dylan', 'dysphemism', 'dōjin', 'ebba ', 'eclipse', 'ecology', 'economic', 'economics', 'ecoregion', 'ecosystem', 'ecozone', 'ecyclopedia', 'editors', 'education', 'educator', 'edward', 'eichi', 'eiko', 'elias', 'elite', 'elixir', 'elixir', 'ella ', 'elliot', 'emergy', 'emoji', 'emoticons', 'emulator', 'encyclopedia', 'endoscopy', 'english', 'enneagram', 'entropy', 'epic_games', 'epigraphy', 'epson', 'eran ', 'ergodic_theory', 'ergonomics', 'ericsson', 'erik ', 'ernest', 'eruera', 'esperanto', 'esri', 'ester', 'estonia', 'ethan', 'ethereum', 'ethnic', 'ethyl', 'euphemism', 'europe', 'eutelsat', 'exhibition', 'existential', 'exonyms', 'fair', 'fallacies', 'fandom', 'faze_clan', 'feedback', 'felix', 'fellow', 'female', 'ferdinand', 'feudalism', 'fiat', 'fiction', 'fidonet', 'figures_of_speech', 'film', 'filmmaking', 'films', 'financial', 'financial', 'financial', 'finley', 'fire', 'fire', 'firefox', 'fluoride', 'football', 'ford', 'forest', 'foundation', 'fractals', 'france', 'franchise', 'frank', 'frasunek', 'fred', 'freddie', 'free_will', 'freiwirtschaft', 'freja', 'french', 'friction', 'friedrich', 'frédéric', 'fujitsu', 'funny_or_die', 'fxhome', 'gabriel', 'galaxy', 'galois', 'game', 'game_system', 'game_terminology', 'gameplay', 'gangnam', 'garcia', 'garmin', 'gary', 'gazetteers', 'gazprom', 'geely', 'geforce', 'gender', 'general_electric', 'gentry', 'geocaching', 'geocode', 'geodesic', 'geodesist', 'geodesy', 'geographic', 'geolocation', 'geology', 'geomatics', 'geometric', 'georg', 'george', 'georgiy', 'gerald', 'german', 'gesture', 'giovanni', 'girl', 'gis', 'github', 'gitih', 'gleb', 'glenn', 'glottonym', 'gmail', 'gnome', 'goji', 'google', 'gordon', 'govern', 'grace ', 'grammatical', 'grandmother', 'graphers', 'graphology', 'green', 'greg', 'griffin', 'groovebox', 'guerrilla', 'guild', 'gulag', 'gustav', 'habitats', 'hackathon', 'hadoop', 'hair', 'haplogroup', 'haptic', 'harrison', 'harry', 'harvard', 'hasbro', 'hashtag', 'health', 'heating', 'help_desk', 'heng', 'henry', 'herald', 'hero', 'hieroglyph', 'himalayan', 'hiroshi', 'hism', 'history', 'hitachi', 'hitler', 'hmong', 'hoani', 'hobbies', 'hobby', 'hobie', 'hockey', 'holding', 'holism', 'holland', 'home_', 'homeostasis', 'homicide', 'homonymy', 'honda', 'honeycombs', 'hormone', 'hornpipe', 'horowitz', 'hospital', 'hosted_on_', 'hot_hatch', 'hotel', 'houthi', 'huawei', 'hugh ', 'human', 'humanit', 'humor', 'hydro', 'hyundai', 'i have', 'ian ', 'ibm', 'idiophones', 'igor', 'ikea', 'immunologic', 'inc.', 'incident', 'india', 'industrie', 'inequality', 'insignia', 'instinct', 'institute', 'intel', 'internet_explorer', 'internet_forum', 'interpol', 'interpretation', 'iodide', 'ionization', 'ions', 'ios', 'ipad', 'iphone', 'iran', 'iron', 'isaac', 'isbn', 'island', 'isochoric', 'israel', 'istrebitel', 'itunes', 'ivan', 'ivar ', 'jack', 'jacob', 'jagga', 'jake', 'james', 'jan ', 'japan', 'japonic', 'jarava', 'jargon', 'jeff ', 'jeffrey', 'jerome', 'jerry', 'jessica', 'jewish', 'jihad', 'jim ', 'joan ', 'joe ', 'joel', 'johann', 'john', 'jonathan', 'joseph', 'joshua', 'journal', 'juan', 'jupiter', 'karl ', 'kate', 'katherine', 'kawasaki', 'kdepim', 'keelboat', 'kenyan', 'ketals', 'keton', 'kevin ', 'kia ', 'kickstarter', 'kimmen', 'kingi', 'kitchen', 'klan', 'kneel', 'knight', 'knoght', 'knoppix', 'knots', 'konami', 'konstantin', 'korea', 'kourosh', 'kra-dai', 'kristen', 'kuka', 'kumar', 'laboratory', 'lada ', 'lakes', 'lancia', 'landform', 'lands', 'language corpus', 'language_famil', 'language_family', 'languages', 'lars ', 'lates', 'latin', 'latvia', 'laureate', 'lawrence', 'leader', 'lee computing center', 'leeroy', 'legend', 'lego', 'lego_', 'lenovo', 'leon ', 'leonard', 'leontin', 'leopold', 'leung', 'lewis', 'lexus', 'lg ', 'lg_electronics', 'lgbt', 'librarian', 'lilly', 'limited', 'limnology', 'lincoln', 'linda ', 'linguist', 'linguistics', 'linkedin', 'linus', 'lism', 'list', 'literature', 'lithography', 'lithuania', 'live', 'locomotive', 'logan', 'logists', 'logitech', 'logos', 'london', 'lord', 'loui', 'ltd.', 'lucas', 'lucky_', 'luwian', 'luxembourg', 'luxury', 'lying', 'm109', 'mac_os', 'macintosh', 'macos', 'magazine', 'magic', 'magic_symbols', 'magical_', 'majesco', 'malaysia', 'maleyka', 'malta', 'mangroves', 'manifesto', 'mantle', 'mantra', 'manufacturer', 'manuscripts', 'maplesoft', 'maps_of', 'marc ', 'marcus', 'margaret', 'mark', 'market', 'married', 'mascot', 'masculine', 'masks', 'mason', 'masonic', 'matches', 'matenadaran', 'max ', 'max_weber', 'maxim', 'maximum_fun', 'maxis', 'medal', 'media', 'medical_', 'medicine', 'medusa', 'meet', 'megalithic_symbols', 'members_of', 'memes', 'meredith', 'messengers', 'metaheuristics', 'metaphysics', 'methyl', 'metre', 'michael', 'michal', 'michel', 'michelbaby', 'micro_focus', 'microsoft', 'midkemia', 'midway_games', 'mikael', 'mikhail', 'military', 'mimicry', 'mindvox', 'minecraft', 'mineral', 'miners', 'minneapolis', 'minoru', 'mitsubishi', 'mmorpg', 'mohamed', 'mohammed', 'mojang', 'monadology', 'mondegreens', 'monism', 'monochrom', 'monogram', 'monster_rancher', 'montane', 'moon', 'moral', 'motivation', 'mountain', 'mozilla', 'muhammad', 'municipal', 'muscle_car', 'musers', 'museum', 'music_video', 'musicbrainz', 'musician', 'muslim', 'myspace', 'mysticism', 'n_games', 'nagios', 'namco', 'nataliya', 'national', 'nationality', 'natural_history', 'naughty_dog', 'nautical', 'naval', 'nazism', 'nearctic', 'neil', 'nelson', 'neologisms', 'neptunian', 'nerd', 'nerve stimulation', 'netflix', 'netherlands', 'netsukuku', 'new_york', 'news', 'nexon', 'nextcloud', 'ngmoco', 'nicolas', 'nikolai', 'nikolay', 'nikos', 'nils ', 'nintendo', 'nippon', 'nism', 'nissan', 'nitriles', 'nitroplus', 'noah', 'nobility', 'nomad', 'nomenclature', 'nonograms', 'nonsense', 'nonverbal_communication', 'norwegian', 'novel', 'novel_', 'novelas', 'numerology', 'nursing', 'nvidia', 'o_interactive', 'oaths', 'obama', 'observatory', 'ocean_maps', 'oceania', 'oculus', 'odyssey', 'offerings', 'office', 'ography', 'oil', 'oilfield', 'okhotsk', 'olga ', 'oligarch', 'oligarchy', 'oligopoly', 'oliver', 'olivia', 'olof ', 'olufsen', 'olympiad', 'olympus', 'ombudsmen', 'omiya_ardija', 'on the screen', 'online_games', 'onofrio', 'onomatopoeia', 'opel ', 'openoffice', 'openstreetmap', 'opera', 'orange', 'organ', 'organisation', 'organization', 'organized_crime', 'organo', 'orthodox', 'oscar', 'oudin', 'owen', 'pakistani', 'palaeography', 'paper', 'papuan', 'paranormal', 'paremiology', 'paris', 'park', 'parliamentary', 'pas-de-calais', 'pat s', 'patrick', 'patron', 'paul ', 'paulo', 'pavel', 'paypal', 'pedagogy', 'penmanship', 'people', 'per_child', 'percussion', 'peripheral', 'person', 'peter', 'pets', 'peugeot', 'phenom', 'phenomenology', 'philatelic', 'philately', 'philip', 'philips', 'phillips', 'philolog', 'philology', 'philosoph', 'philosopher', 'philosophy', 'phists', 'phobia', 'phonaesthetics', 'phonetic', 'phosphate', 'phospho', 'photo', 'phrases', 'physicalism', 'physicist', 'pictograms', 'pierre', 'pieter', 'pigment', 'pigments', 'pinball', 'pink', 'pinterest', 'pioneer', 'pioneers', 'pipe_organ', 'pirate_bay', 'places', 'planet', 'planet_groups', 'players', 'playoff', 'playstation', 'podcast', 'podcasting', 'poetic', 'poetry', 'pokémon', 'poland', 'polish', 'political', 'polyandry', 'polygamy', 'polygyny', 'polyhedra', 'polynomial-time_problems', 'polysemy', 'pontiac', 'popcap', 'popular', 'porn', 'pornhub', 'porsche', 'portmanteaus', 'postal_code', 'posture', 'potassium', 'pragmatic', 'pragmatics', 'prediction', 'president', 'prevention', 'prison', 'privacy', 'products', 'profanity', 'programmer', 'programs', 'projects', 'propagand', 'propaganda', 'protein', 'proton', 'providers', 'pseudonyms', 'psych', 'psycholog', 'publication', 'publishing', 'puns', 'pymouth', 'pyotr', 'pyramids', 'quentin', 'quest', 'quicktime', 'quintet', 'racal', 'racism', 'radio', 'radio_commission', 'rafah', 'raimond', 'rainbow', 'rajko', 'rally', 'rangi', 'rashid', 'raskin', 'rating_system', 'ravensburger_games', 'rds', 'reader', 'receivers', 'recipient', 'red', 'rein ', 'release', 'relig', 'renault', 'reprap', 'researcher', 'restaurant', 'reuter', 'revolution', 'rhetoric', 'rhyme', 'richard', 'ricoh', 'riley', 'ritual', 'robert', 'roboticists', 'robotis', 'robots_of_', 'rock_mass', 'rolls_of_arms', 'roman', 'romance', 'romeo', 'rongorongo', 'ronnie', 'rooster_teeth', 'roy ', 'rugby', 'runes', 'russia', 'russification', 'ruth ', 'ryan', 's_forest', 's_games', 'sabina', 'saga ', 'saharan', 'sailboat', 'sailing', 'samsung', 'samuel', 'sandisk', 'sarah', 'sashes', 'satellite', 'satoru', 'scam', 'scams', 'scheduling', 'scholar', 'school', 'scientist', 'scintilla', 'scotland', 'screenshots', 'sea', 'sea_ice', 'seal', 'sebastian', 'second_life', 'sega', 'selchow_and_righter_games', 'selfie', 'semicar', 'semiotician', 'semitic', 'sensor', 'septet', 'sequoia', 'series', 'sex', 'shabda', 'sharepoint', 'ship_classes', 'ship_libraries', 'shobo', 'shock_site', 'shop', 'shows', 'sigmund', 'signage', 'signature', 'silicon', 'silverlight', 'silyl', 'simon ', 'sinclair', 'singularitarians', 'sitting', 'skin_test', 'skype', 'slavicization', 'slender', 'slovakia', 'slovene', 'slovenia', 'smart', 'snapchat', 'snipe_registration', 'snk', 'soccer', 'society', 'sociology', 'sodium', 'softbank', 'softdisk', 'soil_test', 'soldier', 'soling', 'song', 'sonic', 'sony', 'south_korea', 'soviet', 'soyuz', 'spacecraft', 'spam', 'spelling', 'spelling_reform', 'spies', 'spinozism', 'sports', 'sputnik', 'spy_rings', 'stanford', 'stanislav', 'stanisław', 'star', 'star_', 'starcraft', 'stardock', 'starter', 'steam', 'stepan', 'stephen', 'stereotype', 'steve', 'store', 'stories_', 'street_names', 'stress', 'string_instruments', 'subaru', 'subjective', 'sudoku', 'suicide', 'sulf', 'summit', 'surveying', 'surveyor', 'susan', 'suzanna', 'suzuki', 'swastika', 'sweden', 'swedish', 'swiss', 'switzerland', 'symbian', 'symbols_of', 'synthwave', 'taboo', 'taekwondo', 'taiga', 'taito', 'takashi', 'tamagotchi', 'tanja', 'tattoo', 'teach', 'team', 'teddy', 'teleology', 'telephony', 'telescope', 'television', 'telnet', 'temperature', 'terrain', 'terri', 'terry ', 'testimony', 'tetrarchy', 'tetris', 'texas', 'thai', 'the matrix', 'theocracies', 'theorist', 'theosophical', 'theosophy', 'therapy', 'theremings', 'thermoregulation', 'thesauri', 'theses', 'thomas', 'thousander', 'three_rings_design', 'tibet', 'tiffany', 'tiling', 'tilings', 'tim ', 'time-sharing', 'time_measurement', 'timecodes', 'timofey', 'timothy', 'tom_clancy', 'toponym', 'tor_', 'toronto', 'torvalds', 'toshiba', 'tosy', 'totem', 'tournament_systems', 'town_crier', 'toxic', 'toxicology', 'toy_', 'toyota', 'traffic', 'train', 'transliteration', 'travel_classes', 'traveller', 'travis', 'trentino', 'tri-ace', 'tri_tac', 'trickster', 'trios', 'triplestores', 'tropical', 'truth', 'tsx_60', 'tumblr', 'tundra', 'turkey', 'turkic', 'turkish', 'turntable', 'tv', 'twelvers', 'twitch', 'twitter', 'two-thousanders', 'types_of', 'u. s.', 'ubisoft', 'ukrainian', 'unicorns', 'uniforms', 'unimation', 'united_kingdom', 'united_states', 'universe', 'universiti', 'unmanned', 'unreal_engine', 'upptalk', 'uprising', 'uralic', 'urban', 'urine', 'uruttu', 'usenet', 'vadim', 'vaio', 'valley', 'valve', 'vaporwave', 'vatican', 'vauxhall', 'veekku', 'vegetation', 'vehicle', 'venezuela', 'ventilation', 'vernon', 'veronica', 'vert dider', 'vici_gaming', 'victorino', 'video_game_', 'video_games', 'viewer', 'village', 'vinyl', 'violet', 'vivaldi', 'vivendi', 'vladimir', 'vladislav', 'vodafone', 'voleyball', 'volleyball', 'vsya', 'vtech', 'vulkan', 'waddingtons', 'wadis', 'wales', 'walker', 'wallonia', 'war', 'warming', 'water', 'water_pollution', 'wealth', 'weapon', 'wear', 'weather', 'webcam', 'webkit', 'website', 'webtoon', 'weights', 'welsh', 'wentian', 'werner', 'west_end', 'wework', 'whale_sounds', 'whatsapp', 'whistles', 'widgets', 'wii', 'wiki', 'wikipedia', 'wilhelm', 'william', 'wilma', 'wind', 'windows', 'wine_terminology', 'winner', 'wizards_of_the_coast', 'wizkids', 'wolf', 'women', 'word_play', 'wordpress', 'words_and_phrases', 'work-life', 'wrestling', 'writer', 'writing', 'xiaomi', 'xna_game_engine', 'yahoo', 'yale', 'yamaha', 'yamal', 'yangban', 'year', 'yellow', 'yig', 'yoga', 'youtube', 'yves', 'zachary', 'zeitgeist', 'zhongguancun', 'zithers', 'zonohedra', 'zoo', 'zope', 'zynga', 'émile_durkheim', 'évolués', 'škoda']"
   ]
  },
  {
   "cell_type": "code",
   "execution_count": null,
   "metadata": {},
   "outputs": [],
   "source": [
    "categories = []\n",
    "\n",
    "def process_title(title):\n",
    "    for word in stopwords:\n",
    "        if word in title.lower():\n",
    "            return None\n",
    "    return title\n",
    "\n",
    "for item in data['*'][0]['a']['*']:\n",
    "    title = process_title(item.get('title'))\n",
    "    if title:\n",
    "        categories.append(title)\n",
    "        \n",
    "categories.sort()"
   ]
  },
  {
   "cell_type": "code",
   "execution_count": null,
   "metadata": {},
   "outputs": [],
   "source": [
    "with open('it.category', 'w') as f:\n",
    "    categories.sort()\n",
    "    f.write('\\n'.join(categories))"
   ]
  },
  {
   "cell_type": "code",
   "execution_count": null,
   "metadata": {
    "scrolled": true
   },
   "outputs": [],
   "source": [
    "! ls -laht *.category"
   ]
  },
  {
   "cell_type": "code",
   "execution_count": null,
   "metadata": {
    "scrolled": true
   },
   "outputs": [],
   "source": [
    "! wc -l *.category"
   ]
  },
  {
   "cell_type": "markdown",
   "metadata": {},
   "source": [
    "#### Save in ``categories.filter``"
   ]
  },
  {
   "cell_type": "code",
   "execution_count": null,
   "metadata": {},
   "outputs": [],
   "source": [
    "from glob import glob\n",
    "\n",
    "categories = []\n",
    "\n",
    "for filename in glob('*.category'):\n",
    "    with open(filename, 'r') as f:\n",
    "        categories += f.readlines()\n",
    "\n",
    "categories = list(set(categories))"
   ]
  },
  {
   "cell_type": "code",
   "execution_count": null,
   "metadata": {},
   "outputs": [],
   "source": [
    "data = []\n",
    "\n",
    "def process_title(title):\n",
    "    for word in stopwords:\n",
    "        if word in title.lower():\n",
    "            return None\n",
    "    return title\n",
    "\n",
    "for item in categories:\n",
    "    title = process_title(item)\n",
    "    if title:\n",
    "        data.append(title)\n",
    "        \n",
    "'number of unique categories:', len(data)"
   ]
  },
  {
   "cell_type": "code",
   "execution_count": null,
   "metadata": {},
   "outputs": [],
   "source": [
    "with open('tmp.category', 'w') as f:\n",
    "    f.write(''.join(data))"
   ]
  },
  {
   "cell_type": "code",
   "execution_count": null,
   "metadata": {},
   "outputs": [],
   "source": [
    "with open('tmp.category', 'r') as f:\n",
    "    data = f.readlines()"
   ]
  },
  {
   "cell_type": "code",
   "execution_count": null,
   "metadata": {},
   "outputs": [],
   "source": [
    "data.sort()"
   ]
  },
  {
   "cell_type": "code",
   "execution_count": null,
   "metadata": {},
   "outputs": [],
   "source": [
    "with open('categories.filter', 'w') as f:\n",
    "    f.write(''.join(data))"
   ]
  },
  {
   "cell_type": "markdown",
   "metadata": {},
   "source": [
    "### Get dump, extract pages"
   ]
  },
  {
   "cell_type": "code",
   "execution_count": null,
   "metadata": {},
   "outputs": [],
   "source": [
    "%%bash -s 'enwiki-latest-pages-articles.xml.bz2'\n",
    "\n",
    "wget http://download.wikimedia.org/enwiki/latest/$1\n",
    "\n",
    "python WikiExtractor.py $1 \\\n",
    "       --json \\\n",
    "       --processes 2 \\\n",
    "       --output extracted_2782 \\\n",
    "       --bytes 1M \\\n",
    "       --compress \\\n",
    "       --filter_category categories.filter \\\n",
    "       --links \\\n",
    "       --sections \\\n",
    "       --lists \\\n",
    "       --keep_tables \\\n",
    "       --min_text_length 0 \\\n",
    "       --filter_disambig_pages"
   ]
  },
  {
   "cell_type": "markdown",
   "metadata": {},
   "source": [
    "### Collect them all into one file ``it_wiki_articles.json``"
   ]
  },
  {
   "cell_type": "code",
   "execution_count": null,
   "metadata": {},
   "outputs": [],
   "source": [
    "! find extracted_2782 -name '*bz2' -exec bzip2 -dkc {} \\; > it_wiki_articles"
   ]
  },
  {
   "cell_type": "code",
   "execution_count": null,
   "metadata": {},
   "outputs": [],
   "source": [
    "titles = []\n",
    "\n",
    "with open('it_wiki_articles.json', 'w') as fo:\n",
    "    fo.write('[')\n",
    "    with open('it_wiki_articles', 'r') as f:\n",
    "        file = f.readlines()\n",
    "        for i, line in enumerate(file):\n",
    "            if i < len(file) - 1:\n",
    "                fo.write(line[:-1] + ',')\n",
    "            else:\n",
    "                fo.write(line + ']')"
   ]
  },
  {
   "cell_type": "code",
   "execution_count": null,
   "metadata": {},
   "outputs": [],
   "source": [
    "file = json.load(open('it_wiki_articles.json', 'rb'))"
   ]
  },
  {
   "cell_type": "code",
   "execution_count": null,
   "metadata": {},
   "outputs": [],
   "source": [
    "result = []\n",
    "\n",
    "for line in file:\n",
    "    flag = False\n",
    "    for word in stopwords:\n",
    "        if word in line['title'].lower():\n",
    "            flag = True\n",
    "            continue\n",
    "    if not flag:\n",
    "        result.append(line)"
   ]
  },
  {
   "cell_type": "code",
   "execution_count": null,
   "metadata": {
    "scrolled": true
   },
   "outputs": [],
   "source": [
    "len(result)"
   ]
  },
  {
   "cell_type": "code",
   "execution_count": null,
   "metadata": {},
   "outputs": [],
   "source": [
    "json.dump(result, open('it_wiki_articles.json', 'w'))"
   ]
  },
  {
   "cell_type": "code",
   "execution_count": null,
   "metadata": {},
   "outputs": [],
   "source": [
    "tmp = json.load(open('it_wiki_articles.json', 'r'))"
   ]
  }
 ],
 "metadata": {
  "kernelspec": {
   "display_name": "Python 3",
   "language": "python",
   "name": "python3"
  },
  "language_info": {
   "codemirror_mode": {
    "name": "ipython",
    "version": 3
   },
   "file_extension": ".py",
   "mimetype": "text/x-python",
   "name": "python",
   "nbconvert_exporter": "python",
   "pygments_lexer": "ipython3",
   "version": "3.6.4"
  }
 },
 "nbformat": 4,
 "nbformat_minor": 2
}
